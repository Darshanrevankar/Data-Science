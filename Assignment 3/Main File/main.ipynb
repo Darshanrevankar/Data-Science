{
 "cells": [
  {
   "cell_type": "code",
   "execution_count": 1,
   "metadata": {},
   "outputs": [
    {
     "name": "stdout",
     "output_type": "stream",
     "text": [
      "Deliveries CSV:\n",
      "     order_id                     time_stamp            status\n",
      "0   321230114  2020-12-11 00:01:29.000000000           Pending\n",
      "1   321230114  2020-12-11 00:06:29.000000000  Out For Delivery\n",
      "2   321230114  2020-12-11 00:19:13.299151076         Delivered\n",
      "3   321230115  2020-12-11 00:36:02.000000000           Pending\n",
      "4   321230115  2020-12-11 00:41:02.000000000  Out For Delivery\n",
      "5   321230116  2020-12-11 00:55:01.000000000           Pending\n",
      "6   321230115  2020-12-11 00:59:18.054846609         Delivered\n",
      "7   321230116  2020-12-11 01:00:01.000000000  Out For Delivery\n",
      "8   321230117  2020-12-11 01:05:27.000000000           Pending\n",
      "9   321230117  2020-12-11 01:10:27.000000000  Out For Delivery\n",
      "10  321230116  2020-12-11 01:13:52.153042625         Delivered\n",
      "11  321230118  2020-12-11 01:14:20.000000000           Pending\n",
      "12  321230119  2020-12-11 01:15:42.000000000           Pending\n",
      "13  321230118  2020-12-11 01:19:20.000000000  Out For Delivery\n",
      "14  321230119  2020-12-11 01:20:42.000000000  Out For Delivery\n",
      "15  321230117  2020-12-11 01:22:44.430088094         Delivered\n",
      "16  321230120  2020-12-11 01:29:52.000000000           Pending\n",
      "17  321230118  2020-12-11 01:32:27.488575946         Delivered\n",
      "18  321230120  2020-12-11 01:34:52.000000000  Out For Delivery\n",
      "19  321230119  2020-12-11 01:38:59.623794276         Delivered\n"
     ]
    }
   ],
   "source": [
    "import pandas as pd\n",
    "deliveriesDF = pd.read_csv(\"./diminos_data_v2/deliveries.csv\")\n",
    "print(\"Deliveries CSV:\")\n",
    "print(deliveriesDF.head(20))\n",
    "\n"
   ]
  },
  {
   "cell_type": "code",
   "execution_count": 2,
   "metadata": {},
   "outputs": [
    {
     "name": "stdout",
     "output_type": "stream",
     "text": [
      "\n",
      "Order_Items CSV:\n",
      "     order_id                items_ordered\n",
      "0   321230114  ['p_025', 'p_032', 'p_037']\n",
      "1   321230115           ['p_017', 'p_012']\n",
      "2   321230116           ['p_027', 'p_037']\n",
      "3   321230117           ['p_004', 'p_029']\n",
      "4   321230118           ['p_017', 'p_037']\n",
      "5   321230119  ['p_028', 'p_030', 'p_037']\n",
      "6   321230120           ['p_004', 'p_037']\n",
      "7   321230121  ['p_033', 'p_022', 'p_037']\n",
      "8   321230122  ['p_018', 'p_004', 'p_037']\n",
      "9   321230123  ['p_008', 'p_017', 'p_037']\n",
      "10  321230124  ['p_015', 'p_029', 'p_037']\n",
      "11  321230125           ['p_009', 'p_025']\n",
      "12  321230126           ['p_018', 'p_024']\n",
      "13  321230127  ['p_016', 'p_007', 'p_037']\n",
      "14  321230128           ['p_016', 'p_028']\n",
      "15  321230129  ['p_020', 'p_033', 'p_037']\n",
      "16  321230130  ['p_004', 'p_016', 'p_037']\n",
      "17  321230131                    ['p_001']\n",
      "18  321230132           ['p_005', 'p_025']\n",
      "19  321230133           ['p_017', 'p_037']\n"
     ]
    }
   ],
   "source": [
    "orderItemsDF = pd.read_csv(\"./diminos_data_v2/order_items.csv\")\n",
    "print(\"\\nOrder_Items CSV:\")\n",
    "print(orderItemsDF.head(20))"
   ]
  },
  {
   "cell_type": "code",
   "execution_count": 3,
   "metadata": {},
   "outputs": [
    {
     "name": "stdout",
     "output_type": "stream",
     "text": [
      "\n",
      "Orders CSV:\n",
      "     order_id      order_placed_at\n",
      "0   321230114  2020-12-11 00:01:29\n",
      "1   321230115  2020-12-11 00:36:02\n",
      "2   321230116  2020-12-11 00:55:01\n",
      "3   321230117  2020-12-11 01:05:27\n",
      "4   321230118  2020-12-11 01:14:20\n",
      "5   321230119  2020-12-11 01:15:42\n",
      "6   321230120  2020-12-11 01:29:52\n",
      "7   321230121  2020-12-11 02:00:40\n",
      "8   321230122  2020-12-11 02:10:29\n",
      "9   321230123  2020-12-11 02:26:33\n",
      "10  321230124  2020-12-11 02:34:58\n",
      "11  321230125  2020-12-11 03:02:34\n",
      "12  321230126  2020-12-11 03:09:08\n",
      "13  321230127  2020-12-11 03:15:36\n",
      "14  321230128  2020-12-11 03:16:28\n",
      "15  321230129  2020-12-11 03:27:07\n",
      "16  321230130  2020-12-11 03:50:26\n",
      "17  321230131  2020-12-11 03:47:25\n",
      "18  321230132  2020-12-11 03:47:25\n",
      "19  321230133  2020-12-11 03:59:09\n"
     ]
    }
   ],
   "source": [
    "ordersDF = pd.read_csv(\"./diminos_data_v2/orders.csv\")\n",
    "print(\"\\nOrders CSV:\")\n",
    "print(ordersDF.head(20))"
   ]
  },
  {
   "cell_type": "code",
   "execution_count": 4,
   "metadata": {},
   "outputs": [
    {
     "name": "stdout",
     "output_type": "stream",
     "text": [
      "\n",
      "Products CSV:\n",
      "   item_id category                      Item     Size  Price\n",
      "0    p_001      Veg                Margherita  Regular    109\n",
      "1    p_002      Veg                Margherita   Medium    245\n",
      "2    p_003      Veg                Margherita    Large    455\n",
      "3    p_004      Veg  Double Cheese Margherita  Regular    215\n",
      "4    p_005      Veg  Double Cheese Margherita   Medium    385\n",
      "5    p_006      Veg  Double Cheese Margherita    Large    619\n",
      "6    p_007      Veg                Farm House  Regular    265\n",
      "7    p_008      Veg                Farm House   Medium    469\n",
      "8    p_009      Veg                Farm House    Large    705\n",
      "9    p_010      Veg             Deluxe Veggie  Regular    219\n",
      "10   p_011      Veg             Deluxe Veggie   Medium    385\n",
      "11   p_012      Veg             Deluxe Veggie    Large    619\n",
      "12   p_013      Veg             Cheese N Corn  Regular    179\n",
      "13   p_014      Veg             Cheese N Corn   Medium    319\n",
      "14   p_015      Veg             Cheese N Corn    Large    519\n",
      "15   p_016      Veg      Indi Tandoori Paneer  Regular    305\n",
      "16   p_017      Veg      Indi Tandoori Paneer   Medium    559\n",
      "17   p_018      Veg      Indi Tandoori Paneer    Large    815\n",
      "18   p_019  Non Veg    Chicken Golden Delight  Regular    279\n",
      "19   p_020  Non Veg    Chicken Golden Delight   Medium    499\n"
     ]
    }
   ],
   "source": [
    "productsDF = pd.read_csv(\"./diminos_data_v2/products.csv\")\n",
    "print(\"\\nProducts CSV:\")\n",
    "print(productsDF.head(20))"
   ]
  },
  {
   "cell_type": "code",
   "execution_count": 5,
   "metadata": {},
   "outputs": [
    {
     "name": "stdout",
     "output_type": "stream",
     "text": [
      "Average Delivery Time: 20.647560770746267\n"
     ]
    },
    {
     "name": "stderr",
     "output_type": "stream",
     "text": [
      "C:\\Users\\nagaraj\\AppData\\Local\\Temp\\ipykernel_18868\\1451543313.py:14: SettingWithCopyWarning: \n",
      "A value is trying to be set on a copy of a slice from a DataFrame.\n",
      "Try using .loc[row_indexer,col_indexer] = value instead\n",
      "\n",
      "See the caveats in the documentation: https://pandas.pydata.org/pandas-docs/stable/user_guide/indexing.html#returning-a-view-versus-a-copy\n",
      "  delivered_orders_df['delivery_time_minutes'] = (delivered_orders_df['time_stamp'] - delivered_orders_df['order_placed_at']).dt.total_seconds() / 60\n"
     ]
    }
   ],
   "source": [
    "import pandas as pd\n",
    "deliveries_df = pd.read_csv(\"./diminos_data_v2/deliveries.csv\")\n",
    "\n",
    "orders_df = pd.read_csv(\"./diminos_data_v2/orders.csv\")\n",
    "\n",
    "merged_df = pd.merge(orders_df, deliveries_df, on=\"order_id\")\n",
    "\n",
    "merged_df['order_placed_at'] = pd.to_datetime(merged_df['order_placed_at'])\n",
    "merged_df['time_stamp'] = pd.to_datetime(merged_df['time_stamp'])\n",
    "\n",
    "merged_df.head(10)\n",
    "delivered_orders_df = merged_df[merged_df['status'] == 'Delivered']\n",
    "\n",
    "delivered_orders_df['delivery_time_minutes'] = (delivered_orders_df['time_stamp'] - delivered_orders_df['order_placed_at']).dt.total_seconds() / 60\n",
    "\n",
    "AvgTime = delivered_orders_df['delivery_time_minutes'].mean()\n",
    "\n",
    "print(\"Average Delivery Time:\", AvgTime)"
   ]
  },
  {
   "cell_type": "code",
   "execution_count": 6,
   "metadata": {},
   "outputs": [
    {
     "name": "stdout",
     "output_type": "stream",
     "text": [
      "     Order_id                Date   Order_Placed_at  \\\n",
      "0   321230114 2020-12-11 00:01:29           Pending   \n",
      "1   321230114 2020-12-11 00:01:29  Out For Delivery   \n",
      "2   321230114 2020-12-11 00:01:29         Delivered   \n",
      "3   321230115 2020-12-11 00:36:02           Pending   \n",
      "4   321230115 2020-12-11 00:36:02  Out For Delivery   \n",
      "5   321230115 2020-12-11 00:36:02         Delivered   \n",
      "6   321230116 2020-12-11 00:55:01           Pending   \n",
      "7   321230116 2020-12-11 00:55:01  Out For Delivery   \n",
      "8   321230116 2020-12-11 00:55:01         Delivered   \n",
      "9   321230117 2020-12-11 01:05:27           Pending   \n",
      "10  321230117 2020-12-11 01:05:27  Out For Delivery   \n",
      "11  321230117 2020-12-11 01:05:27         Delivered   \n",
      "12  321230118 2020-12-11 01:14:20           Pending   \n",
      "13  321230118 2020-12-11 01:14:20  Out For Delivery   \n",
      "14  321230118 2020-12-11 01:14:20         Delivered   \n",
      "15  321230119 2020-12-11 01:15:42           Pending   \n",
      "16  321230119 2020-12-11 01:15:42  Out For Delivery   \n",
      "17  321230119 2020-12-11 01:15:42         Delivered   \n",
      "18  321230120 2020-12-11 01:29:52           Pending   \n",
      "19  321230120 2020-12-11 01:29:52  Out For Delivery   \n",
      "\n",
      "              Order_Delivered_at   Order_Status  Time_Taken_to_Deliver  \n",
      "0  2020-12-11 00:01:29.000000000  Not Delivered               0.000000  \n",
      "1  2020-12-11 00:06:29.000000000  Not Delivered               5.000000  \n",
      "2  2020-12-11 00:19:13.299151076      Delivered              17.738319  \n",
      "3  2020-12-11 00:36:02.000000000  Not Delivered               0.000000  \n",
      "4  2020-12-11 00:41:02.000000000  Not Delivered               5.000000  \n",
      "5  2020-12-11 00:59:18.054846609      Delivered              23.267581  \n",
      "6  2020-12-11 00:55:01.000000000  Not Delivered               0.000000  \n",
      "7  2020-12-11 01:00:01.000000000  Not Delivered               5.000000  \n",
      "8  2020-12-11 01:13:52.153042625      Delivered              18.852551  \n",
      "9  2020-12-11 01:05:27.000000000  Not Delivered               0.000000  \n",
      "10 2020-12-11 01:10:27.000000000  Not Delivered               5.000000  \n",
      "11 2020-12-11 01:22:44.430088094      Delivered              17.290501  \n",
      "12 2020-12-11 01:14:20.000000000  Not Delivered               0.000000  \n",
      "13 2020-12-11 01:19:20.000000000  Not Delivered               5.000000  \n",
      "14 2020-12-11 01:32:27.488575946      Delivered              18.124810  \n",
      "15 2020-12-11 01:15:42.000000000  Not Delivered               0.000000  \n",
      "16 2020-12-11 01:20:42.000000000  Not Delivered               5.000000  \n",
      "17 2020-12-11 01:38:59.623794276      Delivered              23.293730  \n",
      "18 2020-12-11 01:29:52.000000000  Not Delivered               0.000000  \n",
      "19 2020-12-11 01:34:52.000000000  Not Delivered               5.000000  \n"
     ]
    }
   ],
   "source": [
    "import pandas as pd\n",
    "\n",
    "\n",
    "orders_df = pd.read_csv(\"./diminos_data_v2/orders.csv\")\n",
    "\n",
    "deliveries_df = pd.read_csv(\"./diminos_data_v2/deliveries.csv\")\n",
    "\n",
    "merged_df = pd.merge(orders_df, deliveries_df, on=\"order_id\", how=\"left\")\n",
    "\n",
    "merged_df['order_placed_at'] = pd.to_datetime(merged_df['order_placed_at'])\n",
    "merged_df['time_stamp'] = pd.to_datetime(merged_df['time_stamp'])\n",
    "\n",
    "merged_df['order_status'] = merged_df['status'].apply(lambda x: 'Delivered' if x == 'Delivered' else 'Not Delivered')\n",
    "\n",
    "merged_df['time_taken_to_deliver'] = merged_df['time_stamp'] - merged_df['order_placed_at']\n",
    "merged_df['time_taken_to_deliver'] = merged_df['time_taken_to_deliver'].dt.total_seconds() / 60  # Convert to minutes\n",
    "\n",
    "new_df = merged_df[['order_id', 'order_placed_at', 'status', 'time_stamp', 'order_status', 'time_taken_to_deliver']]\n",
    "new_df.columns = ['Order_id', 'Date', 'Order_Placed_at', 'Order_Delivered_at', 'Order_Status', 'Time_Taken_to_Deliver']\n",
    "new_df.to_csv(\"mergedDeliveries.csv\", index=False)\n",
    "\n",
    "print(new_df.head(20))\n"
   ]
  },
  {
   "cell_type": "code",
   "execution_count": 7,
   "metadata": {},
   "outputs": [
    {
     "name": "stderr",
     "output_type": "stream",
     "text": [
      "C:\\Users\\nagaraj\\AppData\\Local\\Temp\\ipykernel_18868\\3861719524.py:8: SettingWithCopyWarning: \n",
      "A value is trying to be set on a copy of a slice from a DataFrame.\n",
      "Try using .loc[row_indexer,col_indexer] = value instead\n",
      "\n",
      "See the caveats in the documentation: https://pandas.pydata.org/pandas-docs/stable/user_guide/indexing.html#returning-a-view-versus-a-copy\n",
      "  pending_df['preparation_time'] = (out_for_delivery_df.groupby('order_id')['time_stamp'].transform('min') - pending_df['time_stamp']).dt.total_seconds() / 60\n"
     ]
    },
    {
     "name": "stdout",
     "output_type": "stream",
     "text": [
      "     Order_id                Date     Order_Placed_at    Out for delivery  \\\n",
      "0   321230114 2020-12-11 00:01:29 2020-12-11 00:01:29 2020-12-11 00:06:29   \n",
      "1   321230115 2020-12-11 00:36:02 2020-12-11 00:36:02 2020-12-11 00:41:02   \n",
      "2   321230116 2020-12-11 00:55:01 2020-12-11 00:55:01 2020-12-11 01:00:01   \n",
      "3   321230117 2020-12-11 01:05:27 2020-12-11 01:05:27 2020-12-11 01:10:27   \n",
      "4   321230118 2020-12-11 01:14:20 2020-12-11 01:14:20 2020-12-11 01:19:20   \n",
      "5   321230119 2020-12-11 01:15:42 2020-12-11 01:15:42 2020-12-11 01:20:42   \n",
      "6   321230120 2020-12-11 01:29:52 2020-12-11 01:29:52 2020-12-11 01:34:52   \n",
      "7   321230121 2020-12-11 02:00:40 2020-12-11 02:00:40 2020-12-11 02:05:40   \n",
      "8   321230122 2020-12-11 02:10:29 2020-12-11 02:10:29 2020-12-11 02:15:29   \n",
      "9   321230123 2020-12-11 02:26:33 2020-12-11 02:26:33 2020-12-11 02:31:33   \n",
      "10  321230124 2020-12-11 02:34:58 2020-12-11 02:34:58 2020-12-11 02:39:58   \n",
      "11  321230125 2020-12-11 03:02:34 2020-12-11 03:02:34 2020-12-11 03:07:34   \n",
      "12  321230126 2020-12-11 03:09:08 2020-12-11 03:09:08 2020-12-11 03:14:08   \n",
      "13  321230127 2020-12-11 03:15:36 2020-12-11 03:15:36 2020-12-11 03:20:36   \n",
      "14  321230128 2020-12-11 03:16:28 2020-12-11 03:16:28 2020-12-11 03:21:28   \n",
      "15  321230129 2020-12-11 03:27:07 2020-12-11 03:27:07 2020-12-11 03:32:07   \n",
      "16  321230130 2020-12-11 03:50:26 2020-12-11 03:50:26 2020-12-11 03:55:26   \n",
      "17  321230131 2020-12-11 03:47:25 2020-12-11 03:47:25 2020-12-11 03:52:25   \n",
      "18  321230132 2020-12-11 03:47:25 2020-12-11 03:47:25 2020-12-11 03:52:25   \n",
      "19  321230133 2020-12-11 03:59:09 2020-12-11 03:59:09 2020-12-11 04:04:09   \n",
      "\n",
      "              Order_Delivered_at  Time_Taken_to_Deliver  \\\n",
      "0  2020-12-11 00:19:13.299151076              17.738319   \n",
      "1  2020-12-11 00:59:18.054846609              23.267581   \n",
      "2  2020-12-11 01:13:52.153042625              18.852551   \n",
      "3  2020-12-11 01:22:44.430088094              17.290501   \n",
      "4  2020-12-11 01:32:27.488575946              18.124810   \n",
      "5  2020-12-11 01:38:59.623794276              23.293730   \n",
      "6  2020-12-11 01:47:10.694916978              17.311582   \n",
      "7  2020-12-11 02:19:31.162784213              18.852713   \n",
      "8  2020-12-11 02:30:46.488091119              20.291468   \n",
      "9  2020-12-11 02:47:18.105708301              20.751762   \n",
      "10 2020-12-11 02:53:21.881660018              18.398028   \n",
      "11 2020-12-11 03:24:01.429084233              21.457151   \n",
      "12 2020-12-11 03:27:22.821993448              18.247033   \n",
      "13 2020-12-11 03:35:17.069354095              19.684489   \n",
      "14 2020-12-11 03:36:01.429390567              19.557157   \n",
      "15 2020-12-11 03:51:56.620311987              24.827005   \n",
      "16 2020-12-11 04:07:48.286213898              17.371437   \n",
      "17 2020-12-11 04:06:12.744928691              18.795749   \n",
      "18 2020-12-11 04:04:51.192638615              17.436544   \n",
      "19 2020-12-11 04:18:06.016378356              18.950273   \n",
      "\n",
      "    Preparation Time(Out for delivery - pending)  \n",
      "0                                            NaN  \n",
      "1                                            NaN  \n",
      "2                                            NaN  \n",
      "3                                            NaN  \n",
      "4                                            NaN  \n",
      "5                                            NaN  \n",
      "6                                            NaN  \n",
      "7                                            NaN  \n",
      "8                                            NaN  \n",
      "9                                            NaN  \n",
      "10                                           NaN  \n",
      "11                                           NaN  \n",
      "12                                           NaN  \n",
      "13                                           NaN  \n",
      "14                                           NaN  \n",
      "15                                           NaN  \n",
      "16                                           NaN  \n",
      "17                                           NaN  \n",
      "18                                           NaN  \n",
      "19                                           NaN  \n"
     ]
    }
   ],
   "source": [
    "\n",
    "merged_df['order_placed_at'] = pd.to_datetime(merged_df['order_placed_at'])\n",
    "merged_df['time_stamp'] = pd.to_datetime(merged_df['time_stamp'])\n",
    "\n",
    "\n",
    "pending_df = merged_df[merged_df['status'] == 'Pending']\n",
    "out_for_delivery_df = merged_df[merged_df['status'] == 'Out For Delivery']\n",
    "\n",
    "pending_df['preparation_time'] = (out_for_delivery_df.groupby('order_id')['time_stamp'].transform('min') - pending_df['time_stamp']).dt.total_seconds() / 60\n",
    "\n",
    "pivoted_df = pd.pivot_table(merged_df, index=['order_id', 'order_placed_at'], columns='status', values='time_stamp', aggfunc='first').reset_index()\n",
    "\n",
    "\n",
    "pivoted_df['Time_Taken_to_Deliver'] = (pivoted_df['Delivered'] - pivoted_df['order_placed_at']).dt.total_seconds() / 60\n",
    "\n",
    "pivoted_df = pd.merge(pivoted_df, pending_df[['order_id', 'preparation_time']], on='order_id', how='left')\n",
    "\n",
    "\n",
    "df = pivoted_df[['order_id', 'order_placed_at', 'Pending', 'Out For Delivery', 'Delivered', 'Time_Taken_to_Deliver', 'preparation_time']]\n",
    "df.columns = ['Order_id', 'Date', 'Order_Placed_at', 'Out for delivery', 'Order_Delivered_at', 'Time_Taken_to_Deliver', 'Preparation Time(Out for delivery - pending)']\n",
    "\n",
    "\n",
    "print(df.head(20))\n",
    "\n"
   ]
  },
  {
   "cell_type": "code",
   "execution_count": 8,
   "metadata": {},
   "outputs": [],
   "source": [
    "df['Order_Placed_at'] = pd.to_datetime(df['Order_Placed_at'])\n",
    "df['Out for delivery'] = pd.to_datetime(df['Out for delivery'])\n",
    "df['Preparation Time(Out for delivery - pending)'] = (df['Out for delivery'] - df['Order_Placed_at']).dt.total_seconds() / 60\n",
    "df.to_csv(\"MergedData.csv\", index=True)\n",
    "\n"
   ]
  },
  {
   "cell_type": "code",
   "execution_count": 9,
   "metadata": {},
   "outputs": [
    {
     "data": {
      "image/png": "[encoded data removed]",
      "text/plain": [
       "<Figure size 400x200 with 1 Axes>"
      ]
     },
     "metadata": {},
     "output_type": "display_data"
    },
    {
     "data": {
      "image/png": "[encoded data removed]",
      "text/plain": [
       "<Figure size 400x200 with 1 Axes>"
      ]
     },
     "metadata": {},
     "output_type": "display_data"
    }
   ],
   "source": [
    "import matplotlib.pyplot as plt\n",
    "timeThreshold = [10, 15, 20, 25, 30]\n",
    "\n",
    "ordersBeforeThreshold = [len(df[df['Time_Taken_to_Deliver'] <= threshold]) for threshold in timeThreshold]\n",
    "\n",
    "ordersAbove30 = len(df[df['Time_Taken_to_Deliver'] > 30])\n",
    "\n",
    "\n",
    "ordersBeforeThreshold.append(ordersAbove30)\n",
    "\n",
    "\n",
    "bin_labels = [f\"<= {threshold} min\" for threshold in timeThreshold]\n",
    "bin_labels.append(\"> 30 min\")\n",
    "\n",
    "plt.figure(figsize=(4, 2))\n",
    "plt.bar(bin_labels, ordersBeforeThreshold, color='skyblue')\n",
    "plt.xlabel('Delivery Time')\n",
    "plt.ylabel('Number of Orders')\n",
    "plt.title('Distribution of Delivery Times')\n",
    "plt.xticks(rotation=45)\n",
    "plt.show()\n",
    "\n",
    "\n",
    "OrdersWithinRange = []\n",
    "\n",
    "timeRanges = [(0, 10), (10, 15), (15, 20), (20, 25), (25, 31), (30, float('inf'))]\n",
    "\n",
    "for start, end in timeRanges:\n",
    "    if end == float('inf'):\n",
    "        OrdersWithinRange.append(len(df[(df['Time_Taken_to_Deliver'] >= start)]))\n",
    "    else:\n",
    "        OrdersWithinRange.append(len(df[(df['Time_Taken_to_Deliver'] >= start) & (df['Time_Taken_to_Deliver'] < end)]))\n",
    "\n",
    "\n",
    "bin_labels = ['<= 10 min', '10-15 min', '15-20 min', '20-25 min', '25-30 min', '> 30 min']\n",
    "\n",
    "plt.figure(figsize=(4, 2))\n",
    "plt.bar(bin_labels, OrdersWithinRange, color='skyblue')\n",
    "plt.xlabel('Delivery Time')\n",
    "plt.ylabel('Number of Orders')\n",
    "plt.title('Distribution of Delivery Times')\n",
    "plt.xticks(rotation=45)\n",
    "plt.show()\n"
   ]
  },
  {
   "cell_type": "code",
   "execution_count": 10,
   "metadata": {},
   "outputs": [
    {
     "name": "stdout",
     "output_type": "stream",
     "text": [
      "Shape :  (454336, 7)\n",
      "Average delivery time: 20.647560770746267\n",
      "99th percentile delivery time: 30.895424588832544\n",
      "Median Delivery Time: 19.9816615621\n",
      "Orders delivered before 30 minutes: 448217\n",
      "Orders delivered after 30 minutes: 6119\n",
      "Total :  454336\n",
      "Percentage of orders getting delivered above 30min :  1.3468006057191153\n",
      "99 % of  454336  :  449792.64\n"
     ]
    }
   ],
   "source": [
    "AvgTime = df[\"Time_Taken_to_Deliver\"].mean()\n",
    "percentile99 = df[\"Time_Taken_to_Deliver\"].quantile(0.99)\n",
    "sorted_delivery_times = df['Time_Taken_to_Deliver'].sort_values()\n",
    "\n",
    "# Determine the number of delivery times\n",
    "num_delivery_times = len(sorted_delivery_times)\n",
    "\n",
    "# Check if the number of delivery times is odd or even\n",
    "if num_delivery_times % 2 == 0:\n",
    "    # If even, calculate the median as the average of the two middle values\n",
    "    median_index = num_delivery_times // 2\n",
    "    median_delivery_time = (sorted_delivery_times.iloc[median_index - 1] + sorted_delivery_times.iloc[median_index]) / 2\n",
    "else:\n",
    "    # If odd, the median is the middle value\n",
    "    median_index = (num_delivery_times - 1) // 2\n",
    "    median_delivery_time = sorted_delivery_times.iloc[median_index]\n",
    "\n",
    "ordersBefore30 = df[df[\"Time_Taken_to_Deliver\"] <= 30].shape[0]\n",
    "ordersAfter30 = df[df[\"Time_Taken_to_Deliver\"] > 30].shape[0]\n",
    "total =ordersAfter30+ordersBefore30\n",
    "print(\"Shape : \", df.shape)\n",
    "print(\"Average delivery time:\", AvgTime,)\n",
    "print(\"99th percentile delivery time:\", percentile99)\n",
    "print(\"Median Delivery Time:\", median_delivery_time)\n",
    "print(\"Orders delivered before 30 minutes:\", ordersBefore30)\n",
    "print(\"Orders delivered after 30 minutes:\", ordersAfter30)\n",
    "print(\"Total : \",total)\n",
    "print(\"Percentage of orders getting delivered above 30min : \" , (ordersAfter30/total)*100)\n",
    "print(\"99 % of \",total,\" : \", total*0.99)"
   ]
  },
  {
   "cell_type": "code",
   "execution_count": 11,
   "metadata": {},
   "outputs": [
    {
     "name": "stdout",
     "output_type": "stream",
     "text": [
      "         Order_id  Time_Taken_to_Deliver\n",
      "398935  321629049              62.912078\n",
      "Order ID with the maximum delivery time: 321629049\n"
     ]
    }
   ],
   "source": [
    "highestDeliveryTimeIndex = df['Time_Taken_to_Deliver'].sort_values(ascending=False).head(1).index\n",
    "print(df.loc[highestDeliveryTimeIndex, ['Order_id','Time_Taken_to_Deliver']])\n",
    "\n",
    "maxDeliveryIndex = df['Time_Taken_to_Deliver'].idxmax()\n",
    "orderId = df.loc[maxDeliveryIndex, 'Order_id']\n",
    "print(\"Order ID with the maximum delivery time:\", orderId)\n"
   ]
  },
  {
   "cell_type": "code",
   "execution_count": 12,
   "metadata": {},
   "outputs": [],
   "source": [
    "# import pandas as pd\n",
    "\n",
    "# # Read the CSV file into a DataFrame\n",
    "# df = pd.read_csv(\"MergedData.csv\")\n",
    "\n",
    "# # Convert the \"Date\" column to datetime format\n",
    "# df['Date'] = pd.to_datetime(df['Date'])\n",
    "\n",
    "# # Define the start and end dates for the filtering\n",
    "# start_date = '2024-01-01'\n",
    "# end_date = '2024-01-31'\n",
    "\n",
    "# # Filter the DataFrame for orders placed between the specified date range\n",
    "# filtered_orders = df[(df['Date'] >= start_date) & (df['Date'] <= end_date)]\n",
    "\n",
    "\n",
    "# total_pizzas_ordered = filtered_orders.shape[0]\n",
    "# print(filtered_orders)\n",
    "\n",
    "# print(\"Total pizzas ordered between January 1st and January 31st, 2024 (inclusive):\", total_pizzas_ordered)"
   ]
  },
  {
   "cell_type": "code",
   "execution_count": 13,
   "metadata": {},
   "outputs": [
    {
     "name": "stdout",
     "output_type": "stream",
     "text": [
      "Filtered orders between  :\n",
      "          order_id      order_placed_at\n",
      "442132  321672246  2024-01-01 10:09:42\n",
      "442133  321672247  2024-01-01 10:13:15\n",
      "442134  321672248  2024-01-01 10:11:42\n",
      "442135  321672249  2024-01-01 10:25:31\n",
      "442136  321672250  2024-01-01 10:33:20\n",
      "...           ...                  ...\n",
      "454331  321684445  2024-01-31 23:27:51\n",
      "454332  321684446  2024-01-31 23:40:14\n",
      "454333  321684447  2024-01-31 23:36:08\n",
      "454334  321684448  2024-01-31 23:58:05\n",
      "454335  321684449  2024-01-31 23:55:46\n",
      "\n",
      "[12204 rows x 2 columns]\n",
      "Total pizzas ordered between January 1st and January 31st, 2024 (inclusive): 12204\n"
     ]
    }
   ],
   "source": [
    "\n",
    "ordersDF = pd.read_csv(\"./diminos_data_v2/orders.csv\")\n",
    "\n",
    "ordersDF['order_placed_at'] = pd.to_datetime(ordersDF['order_placed_at'])\n",
    "\n",
    "filtered_orders = orders_df[(orders_df['order_placed_at'] >= '2024-01-01 0:0:0' ) & (orders_df['order_placed_at'] <= '2024-01-31 23:59:59')]\n",
    "totalOrderedPizza = filtered_orders.shape[0]\n",
    "\n",
    "print(\"Filtered orders between \",  \":\\n\", filtered_orders)\n",
    "print(\"Total pizzas ordered between January 1st and January 31st, 2024 (inclusive):\", totalOrderedPizza)\n"
   ]
  },
  {
   "cell_type": "code",
   "execution_count": 14,
   "metadata": {},
   "outputs": [
    {
     "name": "stdout",
     "output_type": "stream",
     "text": [
      "         Order_id  Time_Taken_to_Deliver\n",
      "442105  321672219              30.034180\n",
      "442132  321672246              32.437915\n",
      "442281  321672395              32.621356\n",
      "442379  321672493              30.661606\n",
      "442392  321672506              38.156945\n",
      "...           ...                    ...\n",
      "453914  321684028              32.415009\n",
      "454014  321684128              42.758471\n",
      "454152  321684266              31.026886\n",
      "454264  321684378              30.228460\n",
      "454314  321684428              31.369619\n",
      "\n",
      "[162 rows x 2 columns]\n",
      "Total orders taking more than 30 minutes to deliver between January 1st and January 31st, 2024 (inclusive): 162\n"
     ]
    }
   ],
   "source": [
    "import pandas as pd\n",
    "\n",
    "df = pd.read_csv(\"MergedData.csv\")\n",
    "\n",
    "df['Date'] = pd.to_datetime(df['Date'])\n",
    "\n",
    "jan_orders = df[(df['Date'] >= '2024-01-01 0:0:0') & (df['Date'] <= '2024-01-31 23:59:59')]\n",
    "\n",
    "ordersAbove30min = jan_orders[jan_orders['Time_Taken_to_Deliver'] > 30]\n",
    "\n",
    "print(ordersAbove30min[['Order_id', 'Time_Taken_to_Deliver']])\n",
    "ordersAbove30min = len(ordersAbove30min)\n",
    "print(\"Total orders taking more than 30 minutes to deliver between January 1st and January 31st, 2024 (inclusive):\", ordersAbove30min)\n"
   ]
  },
  {
   "cell_type": "code",
   "execution_count": 15,
   "metadata": {},
   "outputs": [],
   "source": [
    "import pandas as pd\n",
    "\n",
    "items_order_df = pd.read_csv(\"./diminos_data_v2/order_items.csv\")\n",
    "products_df = pd.read_csv(\"./diminos_data_v2/products.csv\")\n",
    "\n",
    "items_order_df['items_ordered'] = items_order_df['items_ordered'].apply(eval)\n",
    "\n",
    "def calculate_total_amount(items_ordered):\n",
    "    total_amount = sum(products_df[products_df['item_id'].isin(items_ordered)]['Price'])\n",
    "    return total_amount\n",
    "\n",
    "items_order_df['amount'] = items_order_df['items_ordered'].apply(calculate_total_amount)\n",
    "\n",
    "items_order_df.to_csv('items_order.csv', index=False)\n"
   ]
  },
  {
   "cell_type": "code",
   "execution_count": 16,
   "metadata": {},
   "outputs": [],
   "source": [
    "items_order_df = pd.read_csv('items_order.csv')\n",
    "merged_data_df = pd.read_csv('MergedData.csv')\n",
    "\n",
    "\n",
    "amountColumn = items_order_df['amount']\n",
    "\n",
    "merged_data_df['amount'] = amountColumn\n",
    "merged_data_df.to_csv('MergedData.csv')\n"
   ]
  },
  {
   "cell_type": "code",
   "execution_count": 17,
   "metadata": {},
   "outputs": [
    {
     "name": "stdout",
     "output_type": "stream",
     "text": [
      "         Order_id  Time_Taken_to_Deliver  amount\n",
      "290596  321520710              30.613269    1199\n",
      "290667  321520781              31.325804    1064\n",
      "290767  321520881              36.774693    1065\n",
      "290803  321520917              31.771191     959\n",
      "290833  321520947              31.444858    1371\n",
      "...           ...                    ...     ...\n",
      "441636  321671750              31.228893     985\n",
      "441672  321671786              30.383697    1055\n",
      "441712  321671826              37.504018    1038\n",
      "441951  321672065              34.861448     800\n",
      "441969  321672083              31.781876     250\n",
      "\n",
      "[2003 rows x 3 columns]\n",
      "Total amount lost in 2023 due to refunds on late deliveries:  1810737\n",
      "\n",
      "\n",
      "\n",
      "Total no of orders refunded  111\n",
      "Total amount lost in 2023 due to refunds on late deliveries:  95328\n",
      "Total no of orders refunded  1992\n",
      "Total amount lost in 2021 due to refunds on late deliveries:  1773971\n",
      "Total no of orders refunded  1851\n",
      "Total amount lost in 2023 due to refunds on late deliveries:  1648061\n",
      "Total no of orders refunded  2003\n",
      "Total amount lost in 2023 due to refunds on late deliveries:  1810737\n",
      "Total no of orders refunded  162\n",
      "Total amount lost in 2024 due to refunds on late deliveries:  145040\n"
     ]
    }
   ],
   "source": [
    "import pandas as pd\n",
    "\n",
    "df = pd.read_csv(\"MergedData.csv\")\n",
    "\n",
    "df['Date'] = pd.to_datetime(df['Date'])\n",
    "\n",
    "orders = df[(df['Date'] >= '2023-01-01 0:0:0') & (df['Date'] <= '2023-12-31 23:59:59')]\n",
    "ordersAbove30min = orders[orders['Time_Taken_to_Deliver'] > 30]\n",
    "print(ordersAbove30min[['Order_id', 'Time_Taken_to_Deliver', 'amount']])\n",
    "print(\"Total amount lost in 2023 due to refunds on late deliveries: \",ordersAbove30min['amount'].sum())\n",
    "\n",
    "print('\\n\\n')\n",
    "orders= df[(df['Date'] >= '2020-01-01 0:0:0') & (df['Date'] <= '2020-12-31 23:59:59')]\n",
    "orders2020 = orders[orders['Time_Taken_to_Deliver'] > 30]\n",
    "print(\"Total no of orders refunded \", len(orders2020))\n",
    "print(\"Total amount lost in 2023 due to refunds on late deliveries: \",orders2020['amount'].sum())\n",
    "\n",
    "orders= df[(df['Date'] >= '2021-01-01 0:0:0') & (df['Date'] <= '2021-12-31 23:59:59')]\n",
    "orders2021 = orders[orders['Time_Taken_to_Deliver'] > 30]\n",
    "print(\"Total no of orders refunded \", len(orders2021))\n",
    "print(\"Total amount lost in 2021 due to refunds on late deliveries: \",orders2021['amount'].sum())\n",
    "\n",
    "orders= df[(df['Date'] >= '2022-01-01 0:0:0') & (df['Date'] <= '2022-12-31 23:59:59')]\n",
    "orders2022 = orders[orders['Time_Taken_to_Deliver'] > 30]\n",
    "print(\"Total no of orders refunded \", len(orders2022))\n",
    "print(\"Total amount lost in 2023 due to refunds on late deliveries: \",orders2022['amount'].sum())\n",
    "\n",
    "orders= df[(df['Date'] >= '2023-01-01 0:0:0') & (df['Date'] <= '2023-12-31 23:59:59')]\n",
    "orders2023 = orders[orders['Time_Taken_to_Deliver'] > 30]\n",
    "print(\"Total no of orders refunded \", len(orders2023))\n",
    "print(\"Total amount lost in 2023 due to refunds on late deliveries: \",orders2023['amount'].sum())\n",
    "\n",
    "orders= df[(df['Date'] >= '2024-01-01 0:0:0') & (df['Date'] <= '2024-12-31 23:59:59')]\n",
    "orders2024 = orders[orders['Time_Taken_to_Deliver'] > 30]\n",
    "print(\"Total no of orders refunded \", len(orders2024))\n",
    "print(\"Total amount lost in 2024 due to refunds on late deliveries: \",orders2024['amount'].sum())\n",
    "\n",
    "\n"
   ]
  },
  {
   "cell_type": "code",
   "execution_count": 18,
   "metadata": {},
   "outputs": [
    {
     "name": "stdout",
     "output_type": "stream",
     "text": [
      "Year with maximum refund amount: 2023\n",
      "Maximum refund amount: 1810737\n"
     ]
    }
   ],
   "source": [
    "import pandas as pd\n",
    "\n",
    "# Read the MergedData.csv file into a DataFrame\n",
    "df = pd.read_csv(\"MergedData.csv\")\n",
    "\n",
    "# Convert 'Date' column to datetime type\n",
    "df['Date'] = pd.to_datetime(df['Date'])\n",
    "\n",
    "# Extract the year from the 'Date' column and create a new column 'Year'\n",
    "df['Year'] = df['Date'].dt.year\n",
    "\n",
    "# Filter orders that took more than 30 minutes for delivery\n",
    "late_deliveries = df[df['Time_Taken_to_Deliver'] > 30]\n",
    "\n",
    "# Calculate the total refund amount for each year\n",
    "refund_amount_by_year = late_deliveries.groupby('Year')['amount'].sum()\n",
    "\n",
    "# Find the year with the maximum refund amount\n",
    "year_with_max_refund = refund_amount_by_year.idxmax()\n",
    "max_refund_amount = refund_amount_by_year.max()\n",
    "\n",
    "print(\"Year with maximum refund amount:\", year_with_max_refund)\n",
    "print(\"Maximum refund amount:\", max_refund_amount)\n"
   ]
  },
  {
   "cell_type": "code",
   "execution_count": 19,
   "metadata": {},
   "outputs": [
    {
     "name": "stdout",
     "output_type": "stream",
     "text": [
      "Total revenue generated by the pizza store till date (excluding refund amount): 397975430\n",
      "Total amount :  397975430\n"
     ]
    }
   ],
   "source": [
    "df = pd.read_csv(\"MergedData.csv\")\n",
    "orders= df[(df['Date'] >= '2020-01-01 0:0:0') & (df['Date'] <= '2024-12-31 23:59:59')]\n",
    "totalRefund = (orders2020['amount'].sum()+orders2021['amount'].sum()+orders2022['amount'].sum()+orders2023['amount'].sum()+orders2024['amount'].sum())\n",
    "revenue = orders['amount'].sum() - totalRefund\n",
    "print(\"Total revenue generated by the pizza store till date (excluding refund amount):\", revenue)\n",
    "\n",
    "orders= df[(df['Date'] >= '2020-01-01 0:0:0') & (df['Date'] <= '2024-12-31 23:59:59')]\n",
    "orders = orders[orders['Time_Taken_to_Deliver'] < 30]\n",
    "# print(orders[['Order_id', 'Time_Taken_to_Deliver', 'amount']])\n",
    "print(\"Total amount : \",orders['amount'].sum())\n",
    "\n"
   ]
  },
  {
   "cell_type": "code",
   "execution_count": 20,
   "metadata": {},
   "outputs": [
    {
     "name": "stderr",
     "output_type": "stream",
     "text": [
      "c:\\Users\\nagaraj\\AppData\\Local\\Programs\\Python\\Python311\\Lib\\site-packages\\IPython\\core\\pylabtools.py:152: UserWarning: Creating legend with loc=\"best\" can be slow with large amounts of data.\n",
      "  fig.canvas.print_figure(bytes_io, **kw)\n"
     ]
    },
    {
     "data": {
      "image/png": "[encoded data removed]",
      "text/plain": [
       "<Figure size 1000x600 with 1 Axes>"
      ]
     },
     "metadata": {},
     "output_type": "display_data"
    }
   ],
   "source": [
    "import pandas as pd\n",
    "import numpy as np\n",
    "from scipy.stats import poisson\n",
    "import matplotlib.pyplot as plt\n",
    "\n",
    "df = pd.read_csv(\"MergedData.csv\")\n",
    "\n",
    "\n",
    "df['Date'] = pd.to_datetime(df['Date'])\n",
    "df['Hour'] = df['Date'].dt.hour\n",
    "hourly_counts = df.groupby('Hour').size()\n",
    "\n",
    "mu = hourly_counts.mean()\n",
    "\n",
    "poisson_dist = poisson(mu)\n",
    "\n",
    "plt.figure(figsize=(10, 6))\n",
    "plt.hist(hourly_counts, bins=range(hourly_counts.min(), hourly_counts.max() + 1), alpha=0.5, label='Observed')\n",
    "plt.plot(np.arange(hourly_counts.min(), hourly_counts.max() + 1), \n",
    "         poisson_dist.pmf(np.arange(hourly_counts.min(), hourly_counts.max() + 1)), \n",
    "         'ro-', label='Fitted Poisson')\n",
    "plt.xlabel('Hourly Order Counts')\n",
    "plt.ylabel('Frequency')\n",
    "plt.title('Hourly Order Counts and Fitted Poisson Distribution')\n",
    "plt.legend()\n",
    "plt.show()\n"
   ]
  },
  {
   "cell_type": "code",
   "execution_count": 21,
   "metadata": {},
   "outputs": [
    {
     "name": "stderr",
     "output_type": "stream",
     "text": [
      "c:\\Users\\nagaraj\\AppData\\Local\\Programs\\Python\\Python311\\Lib\\site-packages\\IPython\\core\\pylabtools.py:152: UserWarning: Creating legend with loc=\"best\" can be slow with large amounts of data.\n",
      "  fig.canvas.print_figure(bytes_io, **kw)\n"
     ]
    },
    {
     "data": {
      "image/png": "[encoded data removed]",
      "text/plain": [
       "<Figure size 1000x600 with 1 Axes>"
      ]
     },
     "metadata": {},
     "output_type": "display_data"
    },
    {
     "name": "stdout",
     "output_type": "stream",
     "text": [
      "Estimated lambda parameter for Poisson distribution: 18930.666666666668\n"
     ]
    }
   ],
   "source": [
    "import pandas as pd\n",
    "from scipy.stats import poisson\n",
    "import matplotlib.pyplot as plt\n",
    "\n",
    "\n",
    "data = pd.read_csv(\"MergedData.csv\")\n",
    "\n",
    "data['Date'] = pd.to_datetime(data['Date'])\n",
    "\n",
    "data['Hour'] = data['Date'].dt.hour\n",
    "\n",
    "\n",
    "hourly_counts = data.groupby('Hour').size()\n",
    "mu = hourly_counts.mean()\n",
    "\n",
    "\n",
    "plt.figure(figsize=(10, 6))\n",
    "\n",
    "\n",
    "plt.hist(hourly_counts, bins=range(hourly_counts.min(), hourly_counts.max() + 1), density=True, alpha=0.5, label='Observed')\n",
    "\n",
    "\n",
    "x = range(hourly_counts.min(), hourly_counts.max() + 1)\n",
    "plt.plot(x, poisson.pmf(x, mu), 'r-', label='Poisson (lambda={:.2f})'.format(mu))\n",
    "\n",
    "plt.title('Hourly Order Counts')\n",
    "plt.xlabel('Number of Orders')\n",
    "plt.ylabel('Probability')\n",
    "plt.legend()\n",
    "plt.show()\n",
    "\n",
    "\n",
    "print(\"Estimated lambda parameter for Poisson distribution:\", mu)\n"
   ]
  }
 ],
 "metadata": {
  "kernelspec": {
   "display_name": "Python 3",
   "language": "python",
   "name": "python3"
  },
  "language_info": {
   "codemirror_mode": {
    "name": "ipython",
    "version": 3
   },
   "file_extension": ".py",
   "mimetype": "text/x-python",
   "name": "python",
   "nbconvert_exporter": "python",
   "pygments_lexer": "ipython3",
   "version": "3.11.0"
  }
 },
 "nbformat": 4,
 "nbformat_minor": 2
}
