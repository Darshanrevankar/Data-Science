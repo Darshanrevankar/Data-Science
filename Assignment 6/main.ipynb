{
 "cells": [
  {
   "cell_type": "code",
   "execution_count": 1,
   "metadata": {},
   "outputs": [
    {
     "data": {
      "text/html": [
       "<div>\n",
       "<style scoped>\n",
       "    .dataframe tbody tr th:only-of-type {\n",
       "        vertical-align: middle;\n",
       "    }\n",
       "\n",
       "    .dataframe tbody tr th {\n",
       "        vertical-align: top;\n",
       "    }\n",
       "\n",
       "    .dataframe thead th {\n",
       "        text-align: right;\n",
       "    }\n",
       "</style>\n",
       "<table border=\"1\" class=\"dataframe\">\n",
       "  <thead>\n",
       "    <tr style=\"text-align: right;\">\n",
       "      <th></th>\n",
       "      <th>ride_id</th>\n",
       "      <th>fare_amount</th>\n",
       "      <th>pickup_datetime</th>\n",
       "      <th>pickup_longitude</th>\n",
       "      <th>pickup_latitude</th>\n",
       "      <th>dropoff_longitude</th>\n",
       "      <th>dropoff_latitude</th>\n",
       "      <th>passenger_count</th>\n",
       "    </tr>\n",
       "  </thead>\n",
       "  <tbody>\n",
       "    <tr>\n",
       "      <th>0</th>\n",
       "      <td>24238194</td>\n",
       "      <td>7.5</td>\n",
       "      <td>2015-05-07 19:52:06 UTC</td>\n",
       "      <td>-73.999817</td>\n",
       "      <td>40.738354</td>\n",
       "      <td>-73.999512</td>\n",
       "      <td>40.723217</td>\n",
       "      <td>1</td>\n",
       "    </tr>\n",
       "    <tr>\n",
       "      <th>1</th>\n",
       "      <td>27835199</td>\n",
       "      <td>7.7</td>\n",
       "      <td>2009-07-17 20:04:56 UTC</td>\n",
       "      <td>-73.994355</td>\n",
       "      <td>40.728225</td>\n",
       "      <td>-73.994710</td>\n",
       "      <td>40.750325</td>\n",
       "      <td>1</td>\n",
       "    </tr>\n",
       "    <tr>\n",
       "      <th>2</th>\n",
       "      <td>44984355</td>\n",
       "      <td>12.9</td>\n",
       "      <td>2009-08-24 21:45:00 UTC</td>\n",
       "      <td>-74.005043</td>\n",
       "      <td>40.740770</td>\n",
       "      <td>-73.962565</td>\n",
       "      <td>40.772647</td>\n",
       "      <td>1</td>\n",
       "    </tr>\n",
       "    <tr>\n",
       "      <th>3</th>\n",
       "      <td>25894730</td>\n",
       "      <td>5.3</td>\n",
       "      <td>2009-06-26 08:22:21 UTC</td>\n",
       "      <td>-73.976124</td>\n",
       "      <td>40.790844</td>\n",
       "      <td>-73.965316</td>\n",
       "      <td>40.803349</td>\n",
       "      <td>3</td>\n",
       "    </tr>\n",
       "    <tr>\n",
       "      <th>4</th>\n",
       "      <td>17610152</td>\n",
       "      <td>16.0</td>\n",
       "      <td>2014-08-28 17:47:00 UTC</td>\n",
       "      <td>-73.925023</td>\n",
       "      <td>40.744085</td>\n",
       "      <td>-73.973082</td>\n",
       "      <td>40.761247</td>\n",
       "      <td>5</td>\n",
       "    </tr>\n",
       "  </tbody>\n",
       "</table>\n",
       "</div>"
      ],
      "text/plain": [
       "    ride_id  fare_amount          pickup_datetime  pickup_longitude  \\\n",
       "0  24238194          7.5  2015-05-07 19:52:06 UTC        -73.999817   \n",
       "1  27835199          7.7  2009-07-17 20:04:56 UTC        -73.994355   \n",
       "2  44984355         12.9  2009-08-24 21:45:00 UTC        -74.005043   \n",
       "3  25894730          5.3  2009-06-26 08:22:21 UTC        -73.976124   \n",
       "4  17610152         16.0  2014-08-28 17:47:00 UTC        -73.925023   \n",
       "\n",
       "   pickup_latitude  dropoff_longitude  dropoff_latitude  passenger_count  \n",
       "0        40.738354         -73.999512         40.723217                1  \n",
       "1        40.728225         -73.994710         40.750325                1  \n",
       "2        40.740770         -73.962565         40.772647                1  \n",
       "3        40.790844         -73.965316         40.803349                3  \n",
       "4        40.744085         -73.973082         40.761247                5  "
      ]
     },
     "execution_count": 1,
     "metadata": {},
     "output_type": "execute_result"
    }
   ],
   "source": [
    "import pandas as pd\n",
    "\n",
    "file_path = \"uber_rides_data.xlsx\"\n",
    "df = pd.read_excel(file_path, sheet_name='sample_train')\n",
    "df.head()"
   ]
  },
  {
   "cell_type": "code",
   "execution_count": 2,
   "metadata": {},
   "outputs": [
    {
     "data": {
      "text/plain": [
       "(200000, 8)"
      ]
     },
     "execution_count": 2,
     "metadata": {},
     "output_type": "execute_result"
    }
   ],
   "source": [
    "df_shape = df.shape\n",
    "df_shape"
   ]
  },
  {
   "cell_type": "code",
   "execution_count": 3,
   "metadata": {},
   "outputs": [
    {
     "name": "stdout",
     "output_type": "stream",
     "text": [
      "Integer columns:\n",
      "ride_id            int64\n",
      "passenger_count    int64\n",
      "dtype: object\n",
      "Number of integer columns: 2\n"
     ]
    }
   ],
   "source": [
    "\n",
    "column_types = df.dtypes\n",
    "\n",
    "integer_columns = column_types[column_types == 'int64']\n",
    "\n",
    "integer_columns_count = len(integer_columns)\n",
    "\n",
    "print(\"Integer columns:\")\n",
    "print(integer_columns)\n",
    "print(\"Number of integer columns:\", integer_columns_count)\n"
   ]
  },
  {
   "cell_type": "code",
   "execution_count": 4,
   "metadata": {},
   "outputs": [
    {
     "name": "stdout",
     "output_type": "stream",
     "text": [
      "Number of missing values in 'dropoff_longitude': 1\n"
     ]
    }
   ],
   "source": [
    "\n",
    "missing_values_count = df['dropoff_longitude'].isnull().sum()\n",
    "\n",
    "print(\"Number of missing values in 'dropoff_longitude':\", missing_values_count)\n"
   ]
  },
  {
   "cell_type": "code",
   "execution_count": 5,
   "metadata": {},
   "outputs": [
    {
     "name": "stdout",
     "output_type": "stream",
     "text": [
      "Data type of 'pickup_datetime': object\n"
     ]
    }
   ],
   "source": [
    "pickup_datetime_dtype = df['pickup_datetime'].dtype\n",
    "\n",
    "print(\"Data type of 'pickup_datetime':\", pickup_datetime_dtype)"
   ]
  },
  {
   "cell_type": "code",
   "execution_count": 6,
   "metadata": {},
   "outputs": [],
   "source": [
    "df['pickup_datetime'] = pd.to_datetime(df['pickup_datetime'])"
   ]
  },
  {
   "cell_type": "code",
   "execution_count": 7,
   "metadata": {},
   "outputs": [],
   "source": [
    "\n",
    "df_cleaned = df.dropna()\n"
   ]
  },
  {
   "cell_type": "code",
   "execution_count": 8,
   "metadata": {},
   "outputs": [
    {
     "name": "stdout",
     "output_type": "stream",
     "text": [
      "Average fare amount: 11.359891549457748\n"
     ]
    }
   ],
   "source": [
    "average_fare = df_cleaned['fare_amount'].mean()\n",
    "\n",
    "print(\"Average fare amount:\", average_fare)"
   ]
  },
  {
   "cell_type": "code",
   "execution_count": 9,
   "metadata": {},
   "outputs": [
    {
     "name": "stdout",
     "output_type": "stream",
     "text": [
      "Median Haversine distance: 2.120992396182902\n"
     ]
    },
    {
     "name": "stderr",
     "output_type": "stream",
     "text": [
      "C:\\Users\\hp\\AppData\\Local\\Temp\\ipykernel_23948\\28961901.py:21: SettingWithCopyWarning: \n",
      "A value is trying to be set on a copy of a slice from a DataFrame.\n",
      "Try using .loc[row_indexer,col_indexer] = value instead\n",
      "\n",
      "See the caveats in the documentation: https://pandas.pydata.org/pandas-docs/stable/user_guide/indexing.html#returning-a-view-versus-a-copy\n",
      "  df_cleaned['haversine_distance'] = haversine(\n"
     ]
    }
   ],
   "source": [
    "import numpy as np\n",
    "\n",
    "def haversine(lat1, lon1, lat2, lon2):\n",
    "    R = 6371.0  \n",
    "    lat1_rad = np.radians(lat1)\n",
    "    lon1_rad = np.radians(lon1)\n",
    "    lat2_rad = np.radians(lat2)\n",
    "    lon2_rad = np.radians(lon2)\n",
    "\n",
    "    dlon = lon2_rad - lon1_rad\n",
    "    dlat = lat2_rad - lat1_rad\n",
    "\n",
    "    a = np.sin(dlat / 2)**2 + np.cos(lat1_rad) * np.cos(lat2_rad) * np.sin(dlon / 2)**2\n",
    "    c = 2 * np.arctan2(np.sqrt(a), np.sqrt(1 - a))\n",
    "\n",
    "    distance = R * c  \n",
    "    return distance\n",
    "\n",
    "df_cleaned = df.dropna()\n",
    "df_cleaned['haversine_distance'] = haversine(\n",
    "    df_cleaned['pickup_latitude'], \n",
    "    df_cleaned['pickup_longitude'], \n",
    "    df_cleaned['dropoff_latitude'], \n",
    "    df_cleaned['dropoff_longitude']\n",
    ")\n",
    "\n",
    "\n",
    "median_distance = df_cleaned['haversine_distance'].median()\n",
    "\n",
    "print(\"Median Haversine distance:\", median_distance)\n"
   ]
  },
  {
   "cell_type": "code",
   "execution_count": 10,
   "metadata": {},
   "outputs": [
    {
     "name": "stdout",
     "output_type": "stream",
     "text": [
      "Maximum Haversine distance: 16409.23913531317\n"
     ]
    },
    {
     "name": "stderr",
     "output_type": "stream",
     "text": [
      "C:\\Users\\hp\\AppData\\Local\\Temp\\ipykernel_23948\\4023170869.py:22: SettingWithCopyWarning: \n",
      "A value is trying to be set on a copy of a slice from a DataFrame.\n",
      "Try using .loc[row_indexer,col_indexer] = value instead\n",
      "\n",
      "See the caveats in the documentation: https://pandas.pydata.org/pandas-docs/stable/user_guide/indexing.html#returning-a-view-versus-a-copy\n",
      "  df_cleaned['haversine_distance'] = haversine(\n"
     ]
    }
   ],
   "source": [
    "import numpy as np\n",
    "\n",
    "def haversine(lat1, lon1, lat2, lon2):\n",
    "    R = 6371.0  \n",
    "    lat1_rad = np.radians(lat1)\n",
    "    lon1_rad = np.radians(lon1)\n",
    "    lat2_rad = np.radians(lat2)\n",
    "    lon2_rad = np.radians(lon2)\n",
    "\n",
    "    dlon = lon2_rad - lon1_rad\n",
    "    dlat = lat2_rad - lat1_rad\n",
    "\n",
    "    a = np.sin(dlat / 2)**2 + np.cos(lat1_rad) * np.cos(lat2_rad) * np.sin(dlon / 2)**2\n",
    "    c = 2 * np.arctan2(np.sqrt(a), np.sqrt(1 - a))\n",
    "\n",
    "    distance = R * c  \n",
    "    return distance\n",
    "\n",
    "df_cleaned = df.dropna()\n",
    "\n",
    "\n",
    "df_cleaned['haversine_distance'] = haversine(\n",
    "    df_cleaned['pickup_latitude'], \n",
    "    df_cleaned['pickup_longitude'], \n",
    "    df_cleaned['dropoff_latitude'], \n",
    "    df_cleaned['dropoff_longitude']\n",
    ")\n",
    "\n",
    "max_distance = df_cleaned['haversine_distance'].max()\n",
    "\n",
    "print(\"Maximum Haversine distance:\", max_distance)\n"
   ]
  },
  {
   "cell_type": "code",
   "execution_count": 11,
   "metadata": {},
   "outputs": [
    {
     "name": "stdout",
     "output_type": "stream",
     "text": [
      "Number of rides with 0.0 Haversine distance: 5632\n"
     ]
    }
   ],
   "source": [
    "zero_distance_count = df_cleaned[df_cleaned['haversine_distance'] == 0.0].shape[0]\n",
    "\n",
    "print(\"Number of rides with 0.0 Haversine distance:\", zero_distance_count)"
   ]
  },
  {
   "cell_type": "code",
   "execution_count": 12,
   "metadata": {},
   "outputs": [
    {
     "name": "stdout",
     "output_type": "stream",
     "text": [
      "Mean fare amount for rides with 0.0 Haversine distance: 11.585317826704546\n"
     ]
    }
   ],
   "source": [
    "mean_fare_zero_distance = df_cleaned[df_cleaned['haversine_distance'] == 0.0]['fare_amount'].mean()\n",
    "\n",
    "print(\"Mean fare amount for rides with 0.0 Haversine distance:\", mean_fare_zero_distance)"
   ]
  },
  {
   "cell_type": "code",
   "execution_count": 13,
   "metadata": {},
   "outputs": [
    {
     "name": "stdout",
     "output_type": "stream",
     "text": [
      "Maximum fare amount for a ride: 499.0\n"
     ]
    }
   ],
   "source": [
    "max_fare_amount = df['fare_amount'].max()\n",
    "\n",
    "print(\"Maximum fare amount for a ride:\", max_fare_amount)\n"
   ]
  },
  {
   "cell_type": "code",
   "execution_count": 14,
   "metadata": {},
   "outputs": [
    {
     "name": "stdout",
     "output_type": "stream",
     "text": [
      "Haversine distance for the costliest ride: 0.0007899213191009994\n"
     ]
    }
   ],
   "source": [
    "\n",
    "costliest_ride = df.loc[df['fare_amount'].idxmax()]\n",
    "\n",
    "pickup_lat = costliest_ride['pickup_latitude']\n",
    "pickup_lon = costliest_ride['pickup_longitude']\n",
    "dropoff_lat = costliest_ride['dropoff_latitude']\n",
    "dropoff_lon = costliest_ride['dropoff_longitude']\n",
    "\n",
    "costliest_ride_distance = haversine(pickup_lat, pickup_lon, dropoff_lat, dropoff_lon)\n",
    "\n",
    "print(\"Haversine distance for the costliest ride:\", costliest_ride_distance)\n"
   ]
  },
  {
   "cell_type": "code",
   "execution_count": 15,
   "metadata": {},
   "outputs": [
    {
     "name": "stdout",
     "output_type": "stream",
     "text": [
      "Number of rides recorded in the year 2014: 29968\n"
     ]
    }
   ],
   "source": [
    "\n",
    "df['pickup_datetime'] = pd.to_datetime(df['pickup_datetime'])\n",
    "\n",
    "rides_2014_count = df[df['pickup_datetime'].dt.year == 2014].shape[0]\n",
    "\n",
    "print(\"Number of rides recorded in the year 2014:\", rides_2014_count)\n"
   ]
  },
  {
   "cell_type": "code",
   "execution_count": 17,
   "metadata": {},
   "outputs": [
    {
     "name": "stdout",
     "output_type": "stream",
     "text": [
      "Number of rides recorded in the first quarter of 2014: 7617\n"
     ]
    }
   ],
   "source": [
    "\n",
    "df['pickup_datetime'] = pd.to_datetime(df['pickup_datetime'])\n",
    "\n",
    "rides_q1_2014_count = df[(df['pickup_datetime'] >= '2014-01-01') & \n",
    "                          (df['pickup_datetime'] <= '2014-03-31')].shape[0]\n",
    "\n",
    "print(\"Number of rides recorded in the first quarter of 2014:\", rides_q1_2014_count)\n"
   ]
  },
  {
   "cell_type": "code",
   "execution_count": 18,
   "metadata": {},
   "outputs": [
    {
     "name": "stdout",
     "output_type": "stream",
     "text": [
      "Day of the week with maximum rides in September 2010: Thursday\n",
      "Number of rides on that day: 457\n"
     ]
    },
    {
     "name": "stderr",
     "output_type": "stream",
     "text": [
      "C:\\Users\\hp\\AppData\\Local\\Temp\\ipykernel_23948\\1995389878.py:5: SettingWithCopyWarning: \n",
      "A value is trying to be set on a copy of a slice from a DataFrame.\n",
      "Try using .loc[row_indexer,col_indexer] = value instead\n",
      "\n",
      "See the caveats in the documentation: https://pandas.pydata.org/pandas-docs/stable/user_guide/indexing.html#returning-a-view-versus-a-copy\n",
      "  september_2010_rides['day_of_week'] = september_2010_rides['pickup_datetime'].dt.day_name()\n"
     ]
    }
   ],
   "source": [
    "\n",
    "df['pickup_datetime'] = pd.to_datetime(df['pickup_datetime'])\n",
    "september_2010_rides = df[(df['pickup_datetime'] >= '2010-09-01') & \n",
    "                           (df['pickup_datetime'] < '2010-10-01')]\n",
    "\n",
    "september_2010_rides['day_of_week'] = september_2010_rides['pickup_datetime'].dt.day_name()\n",
    "\n",
    "rides_per_day = september_2010_rides['day_of_week'].value_counts()\n",
    "\n",
    "\n",
    "max_rides_day = rides_per_day.idxmax()\n",
    "max_rides_count = rides_per_day.max()\n",
    "\n",
    "print(\"Day of the week with maximum rides in September 2010:\", max_rides_day)\n",
    "print(\"Number of rides on that day:\", max_rides_count)\n"
   ]
  },
  {
   "cell_type": "code",
   "execution_count": 25,
   "metadata": {},
   "outputs": [],
   "source": [
    "import numpy as np\n",
    "\n",
    "def haversine(lat1, lon1, lat2, lon2):\n",
    "    lat1, lon1, lat2, lon2 = map(np.radians, [lat1, lon1, lat2, lon2])\n",
    "    dlon = lon2 - lon1 \n",
    "    dlat = lat2 - lat1 \n",
    "    a = np.sin(dlat/2)**2 + np.cos(lat1) * np.cos(lat2) * np.sin(dlon/2)**2\n",
    "    c = 2 * np.arcsin(np.sqrt(a)) \n",
    "    r = 6371  \n",
    "    return c * r\n",
    "\n",
    "df['haversine_distance'] = haversine(df['pickup_latitude'], df['pickup_longitude'],\n",
    "                                      df['dropoff_latitude'], df['dropoff_longitude'])\n"
   ]
  },
  {
   "cell_type": "code",
   "execution_count": 27,
   "metadata": {},
   "outputs": [
    {
     "name": "stdout",
     "output_type": "stream",
     "text": [
      "Adjusted R-squared values for each model:\n",
      "{'Linear Regression': 0.0002964063992109134, 'Decision Tree': 0.4892067875916375, 'Random Forest': 0.6275895283666681, 'KNN': 0.6333518516544493}\n",
      "Algorithm with the least adjusted R-squared value: Linear Regression\n"
     ]
    }
   ],
   "source": [
    "import pandas as pd\n",
    "import numpy as np\n",
    "from sklearn.model_selection import train_test_split\n",
    "from sklearn.linear_model import LinearRegression\n",
    "from sklearn.tree import DecisionTreeRegressor\n",
    "from sklearn.ensemble import RandomForestRegressor\n",
    "from sklearn.neighbors import KNeighborsRegressor\n",
    "from sklearn.metrics import r2_score\n",
    "\n",
    "df = pd.read_excel('uber_rides_data.xlsx') \n",
    "\n",
    "df['pickup_datetime'] = pd.to_datetime(df['pickup_datetime'])\n",
    "\n",
    "df['ride_week_day'] = df['pickup_datetime'].dt.day_name()\n",
    "\n",
    "df['ride_week_day'] = pd.Categorical(df['ride_week_day']).codes\n",
    "\n",
    "def haversine(lat1, lon1, lat2, lon2):\n",
    "    lat1, lon1, lat2, lon2 = map(np.radians, [lat1, lon1, lat2, lon2])\n",
    "    dlon = lon2 - lon1 \n",
    "    dlat = lat2 - lat1 \n",
    "    a = np.sin(dlat/2)**2 + np.cos(lat1) * np.cos(lat2) * np.sin(dlon/2)**2\n",
    "    c = 2 * np.arcsin(np.sqrt(a)) \n",
    "    r = 6371  \n",
    "    return c * r\n",
    "\n",
    "df['haversine_distance'] = haversine(df['pickup_latitude'], df['pickup_longitude'],\n",
    "                                      df['dropoff_latitude'], df['dropoff_longitude'])\n",
    "\n",
    "df = df.dropna(subset=['passenger_count', 'haversine_distance', 'ride_week_day', 'fare_amount'])\n",
    "\n",
    "X = df[['passenger_count', 'haversine_distance', 'ride_week_day']]\n",
    "y = df['fare_amount']\n",
    "\n",
    "X_train, X_test, y_train, y_test = train_test_split(X, y, test_size=0.3, random_state=42)\n",
    "\n",
    "models = {\n",
    "    'Linear Regression': LinearRegression(),\n",
    "    'Decision Tree': DecisionTreeRegressor(),\n",
    "    'Random Forest': RandomForestRegressor(),\n",
    "    'KNN': KNeighborsRegressor()\n",
    "}\n",
    "\n",
    "\n",
    "adjusted_r_squared = {}\n",
    "\n",
    "for name, model in models.items():\n",
    "  \n",
    "    model.fit(X_train, y_train)\n",
    "  \n",
    "    y_pred = model.predict(X_test)\n",
    "  \n",
    "    r2 = r2_score(y_test, y_pred)\n",
    "\n",
    "    n = X_test.shape[0]  \n",
    "    p = X_test.shape[1]  \n",
    "    adj_r2 = 1 - (1 - r2) * (n - 1) / (n - p - 1)\n",
    "    \n",
    "    adjusted_r_squared[name] = adj_r2\n",
    "\n",
    "least_adj_r2_model = min(adjusted_r_squared, key=adjusted_r_squared.get)\n",
    "\n",
    "print(\"Adjusted R-squared values for each model:\")\n",
    "print(adjusted_r_squared)\n",
    "print(\"Algorithm with the least adjusted R-squared value:\", least_adj_r2_model)\n"
   ]
  },
  {
   "cell_type": "code",
   "execution_count": null,
   "metadata": {},
   "outputs": [],
   "source": []
  }
 ],
 "metadata": {
  "kernelspec": {
   "display_name": "Python 3",
   "language": "python",
   "name": "python3"
  },
  "language_info": {
   "codemirror_mode": {
    "name": "ipython",
    "version": 3
   },
   "file_extension": ".py",
   "mimetype": "text/x-python",
   "name": "python",
   "nbconvert_exporter": "python",
   "pygments_lexer": "ipython3",
   "version": "3.11.5"
  }
 },
 "nbformat": 4,
 "nbformat_minor": 2
}
