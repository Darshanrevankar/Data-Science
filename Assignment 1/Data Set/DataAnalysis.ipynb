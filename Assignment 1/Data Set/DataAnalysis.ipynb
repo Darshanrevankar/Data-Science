{
 "cells": [
  {
   "cell_type": "code",
   "execution_count": 1,
   "id": "061e88bf",
   "metadata": {},
   "outputs": [
    {
     "name": "stdout",
     "output_type": "stream",
     "text": [
      "Count of individuals in each current profession category:\n",
      "Student (I am currently enrolled in some Educational Program)                          488\n",
      "Fresher (I have completed my Education and looking for a job now)                      424\n",
      "Working Professional (I have completed my Education and working full time)              62\n",
      "Freelancer (I have completed my Education and working part time or owns a business)     26\n",
      "Name: What is your current profession?, dtype: int64\n"
     ]
    }
   ],
   "source": [
    "import pandas as pd\n",
    "\n",
    "interns_data = pd.read_csv(r\"C:\\Users\\hp\\Desktop\\Data Set\\raw_data_v11_3.csv\")\n",
    "profession_counts = interns_data['What is your current profession?'].value_counts()\n",
    "\n",
    "print(\"Count of individuals in each current profession category:\")\n",
    "print(profession_counts)"
   ]
  },
  {
   "cell_type": "code",
   "execution_count": 2,
   "id": "f13df19d",
   "metadata": {},
   "outputs": [
    {
     "name": "stdout",
     "output_type": "stream",
     "text": [
      "The most common current profession among interns is: Student (I am currently enrolled in some Educational Program)\n"
     ]
    }
   ],
   "source": [
    "import pandas as pd\n",
    "\n",
    "df = pd.read_csv(r\"C:\\Users\\hp\\Desktop\\Data Set\\raw_data_v11_3.csv\")\n",
    "\n",
    "current_professions = df['What is your current profession?'].value_counts()\n",
    "most_common_profession = current_professions.idxmax()\n",
    "\n",
    "print(f\"The most common current profession among interns is: {most_common_profession}\")"
   ]
  },
  {
   "cell_type": "code",
   "execution_count": 3,
   "id": "91d4efec",
   "metadata": {},
   "outputs": [
    {
     "name": "stdout",
     "output_type": "stream",
     "text": [
      "The preferred LIVE session timing among interns is: 6:00 to 7:00 PM IST\n"
     ]
    }
   ],
   "source": [
    "import pandas as pd\n",
    "\n",
    "df = pd.read_csv(r\"C:\\Users\\hp\\Desktop\\Data Set\\raw_data_v11_3.csv\")\n",
    "\n",
    "preferred_interaction_times = df['Please indicate the time that suits you for your daily LIVE interaction with our Chief Data Scientist as part of your internship.'].value_counts()\n",
    "preferred_timing = preferred_interaction_times.idxmax()\n",
    "\n",
    "print(f\"The preferred LIVE session timing among interns is: {preferred_timing}\")\n"
   ]
  },
  {
   "cell_type": "code",
   "execution_count": 4,
   "id": "b313d6ae",
   "metadata": {},
   "outputs": [
    {
     "name": "stdout",
     "output_type": "stream",
     "text": [
      "The number of interns enrolled or completed data science professional courses is: 678\n"
     ]
    }
   ],
   "source": [
    "import pandas as pd\n",
    "\n",
    "df = pd.read_csv(r\"C:\\Users\\hp\\Desktop\\Data Set\\raw_data_v11_3.csv\")\n",
    "\n",
    "data_science_interns = df[df['Please mention the name of the institute where you have completed or are currently pursuing your Data Science Certification Course.'].notna()]\n",
    "num_data_science_interns = len(data_science_interns)\n",
    "print(f\"The number of interns enrolled or completed data science professional courses is: {num_data_science_interns}\")"
   ]
  },
  {
   "cell_type": "code",
   "execution_count": 5,
   "id": "333fb8ce",
   "metadata": {},
   "outputs": [
    {
     "name": "stdout",
     "output_type": "stream",
     "text": [
      "The current profession of the majority of interns who never enrolled is: Student (I am currently enrolled in some Educational Program)\n"
     ]
    }
   ],
   "source": [
    "import pandas as pd\n",
    "\n",
    "file_path = r\"C:\\Users\\hp\\Desktop\\Data Set\\raw_data_v11_3.csv\"\n",
    "df = pd.read_csv(file_path)\n",
    "\n",
    "not_enrolled_data = df[df['Please mention the name of the institute where you have completed or are currently pursuing your Data Science Certification Course.'].isna()]\n",
    "\n",
    "majority_profession_not_enrolled = not_enrolled_data['What is your current profession?'].mode().iloc[0]\n",
    "\n",
    "print(f\"The current profession of the majority of interns who never enrolled is: {majority_profession_not_enrolled}\")\n"
   ]
  },
  {
   "cell_type": "code",
   "execution_count": 6,
   "id": "e238cb23",
   "metadata": {},
   "outputs": [
    {
     "name": "stdout",
     "output_type": "stream",
     "text": [
      "The third most important skill for a data scientist is:  MLOps\n"
     ]
    }
   ],
   "source": [
    "import pandas as pd\n",
    "\n",
    "file_path = r\"C:\\Users\\hp\\Desktop\\Data Set\\raw_data_v11_3.csv\"\n",
    "df = pd.read_csv(file_path)\n",
    "\n",
    "skills_data = df['What do you think are most important skill right now for a skilled Data Scientist?']\n",
    "\n",
    "all_skills = ','.join(skills_data.dropna()).split(',')\n",
    "\n",
    "skills_counts = pd.Series(all_skills).value_counts()\n",
    "\n",
    "third_most_important_skill = skills_counts.index[2]\n",
    "\n",
    "print(f\"The third most important skill for a data scientist is: {third_most_important_skill}\")\n"
   ]
  },
  {
   "cell_type": "code",
   "execution_count": 8,
   "id": "d1ef4a2c",
   "metadata": {},
   "outputs": [
    {
     "name": "stdout",
     "output_type": "stream",
     "text": [
      "The number of interns who selected 'Prompt Engineering' as the most important skill is: 425\n"
     ]
    }
   ],
   "source": [
    "import pandas as pd\n",
    "\n",
    "file_path = r\"C:\\Users\\hp\\Desktop\\Data Set\\raw_data_v11_3.csv\"\n",
    "df = pd.read_csv(file_path)\n",
    "\n",
    "prompt_engineering_count = skills_responses.str.count(\"Prompt Engineering\").sum()\n",
    "print(f\"The number of interns who selected 'Prompt Engineering' as the most important skill is: {prompt_engineering_count}\")\n",
    "\n",
    "df.columns = df.columns.str.strip()"
   ]
  },
  {
   "cell_type": "code",
   "execution_count": 9,
   "id": "1f2ee0f5",
   "metadata": {},
   "outputs": [
    {
     "name": "stdout",
     "output_type": "stream",
     "text": [
      "The minimum age of an intern at Innomatics Research Labs is: 20.0 years\n"
     ]
    }
   ],
   "source": [
    "import pandas as pd\n",
    "\n",
    "file_path = r\"C:\\Users\\hp\\Desktop\\Data Set\\raw_data_v11_3.csv\"\n",
    "df = pd.read_csv(file_path)\n",
    "\n",
    "df['Date of Birth'] = pd.to_datetime(df['Date of Birth'], errors='coerce')\n",
    "\n",
    "innomatics_interns = df[df['Please mention the name of the institute where you have completed or are currently pursuing your Data Science Certification Course.'] == 'Innomatics Research Labs'].copy()\n",
    "\n",
    "current_date = pd.to_datetime('today')\n",
    "innomatics_interns.loc[:, 'Age'] = (current_date - innomatics_interns['Date of Birth']).astype('<m8[Y]')\n",
    "\n",
    "min_age_innomatics = innomatics_interns['Age'].min()\n",
    "\n",
    "print(f\"The minimum age of an intern at Innomatics Research Labs is: {min_age_innomatics} years\")"
   ]
  },
  {
   "cell_type": "code",
   "execution_count": 10,
   "id": "6513edfc",
   "metadata": {},
   "outputs": [
    {
     "name": "stdout",
     "output_type": "stream",
     "text": [
      "The number of interns born on a Sunday is: 125\n"
     ]
    }
   ],
   "source": [
    "import pandas as pd\n",
    "\n",
    "file_path = r\"C:\\Users\\hp\\Desktop\\Data Set\\raw_data_v11_3.csv\"\n",
    "df = pd.read_csv(file_path)\n",
    "\n",
    "df['Date of Birth'] = pd.to_datetime(df['Date of Birth'], errors='coerce')\n",
    "\n",
    "sunday_born_interns = df[df['Date of Birth'].dt.day_name() == 'Sunday']\n",
    "\n",
    "num_sunday_born_interns = len(sunday_born_interns)\n",
    "\n",
    "print(f\"The number of interns born on a Sunday is: {num_sunday_born_interns}\")\n"
   ]
  },
  {
   "cell_type": "code",
   "execution_count": 11,
   "id": "38bc1a14",
   "metadata": {},
   "outputs": [
    {
     "name": "stdout",
     "output_type": "stream",
     "text": [
      "The majority of interns are born in the month: 7\n"
     ]
    }
   ],
   "source": [
    "import pandas as pd\n",
    "\n",
    "file_path = r\"C:\\Users\\hp\\Desktop\\Data Set\\raw_data_v11_3.csv\"\n",
    "df = pd.read_csv(file_path)\n",
    "\n",
    "df['Date of Birth'] = pd.to_datetime(df['Date of Birth'], errors='coerce')\n",
    "\n",
    "df['Birth Month'] = df['Date of Birth'].dt.month\n",
    "\n",
    "majority_birth_month = df['Birth Month'].mode().iloc[0]\n",
    "\n",
    "print(f\"The majority of interns are born in the month: {majority_birth_month}\")"
   ]
  },
  {
   "cell_type": "code",
   "execution_count": 12,
   "id": "798de005",
   "metadata": {},
   "outputs": [
    {
     "name": "stdout",
     "output_type": "stream",
     "text": [
      "The median age of working professionals among interns is: 22.0 years\n"
     ]
    }
   ],
   "source": [
    "import pandas as pd\n",
    "\n",
    "file_path = r\"C:\\Users\\hp\\Desktop\\Data Set\\raw_data_v11_3.csv\"\n",
    "df = pd.read_csv(file_path)\n",
    "\n",
    "df['Date of Birth'] = pd.to_datetime(df['Date of Birth'], format='%m/%d/%Y', errors='coerce')\n",
    "df['Date of Birth'] = df['Date of Birth'].combine_first(pd.to_datetime(df['Date of Birth'], format='%d-%m-%Y', errors='coerce'))\n",
    "working_professionals = df[df['What is your current profession?'].notna()]\n",
    "working_professionals['age'] = (pd.to_datetime('today') - working_professionals['Date of Birth']).dt.days // 365\n",
    "median_age_working_professionals = working_professionals['age'].median()\n",
    "print(f\"The median age of working professionals among interns is: {median_age_working_professionals} years\")\n"
   ]
  },
  {
   "cell_type": "code",
   "execution_count": 13,
   "id": "4484b0f0",
   "metadata": {},
   "outputs": [
    {
     "name": "stdout",
     "output_type": "stream",
     "text": [
      "The maximum age of a freelancer is: nan years\n"
     ]
    }
   ],
   "source": [
    "import pandas as pd\n",
    "\n",
    "file_path = r\"C:\\Users\\hp\\Desktop\\Data Set\\raw_data_v11_3.csv\"\n",
    "df = pd.read_csv(file_path)\n",
    "\n",
    "df['Date of Birth'] = pd.to_datetime(df['Date of Birth'], errors='coerce')\n",
    "\n",
    "current_date = pd.to_datetime('today')\n",
    "df['Age'] = (current_date - df['Date of Birth']).astype('<m8[Y]')\n",
    "\n",
    "freelancers = df[df['What is your current profession?'] == 'Freelancer']\n",
    "\n",
    "max_age_freelancer = freelancers['Age'].max()\n",
    "\n",
    "print(f\"The maximum age of a freelancer is: {max_age_freelancer} years\")"
   ]
  },
  {
   "cell_type": "code",
   "execution_count": 14,
   "id": "bf6c6ae4",
   "metadata": {},
   "outputs": [
    {
     "name": "stdout",
     "output_type": "stream",
     "text": [
      "The number of interns who didn't mention the institute is: 322\n"
     ]
    }
   ],
   "source": [
    "import pandas as pd\n",
    "\n",
    "file_path = r\"C:\\Users\\hp\\Desktop\\Data Set\\raw_data_v11_3.csv\"\n",
    "df = pd.read_csv(file_path)\n",
    "\n",
    "unspecified_institute_count = df['Please mention the name of the institute where you have completed or are currently pursuing your Data Science Certification Course.'].isna().sum()\n",
    "print(f\"The number of interns who didn't mention the institute is: {unspecified_institute_count}\")"
   ]
  },
  {
   "cell_type": "code",
   "execution_count": 15,
   "id": "b5b9ae5d",
   "metadata": {},
   "outputs": [
    {
     "name": "stdout",
     "output_type": "stream",
     "text": [
      "The number of interns who mentioned 'Innomatics' as their institute is: 9\n"
     ]
    }
   ],
   "source": [
    "import pandas as pd\n",
    "\n",
    "file_path = r\"C:\\Users\\hp\\Desktop\\Data Set\\raw_data_v11_3.csv\"\n",
    "df = pd.read_csv(file_path)\n",
    "\n",
    "innomatics_mentioned_count = df[df['Please mention the name of the institute where you have completed or are currently pursuing your Data Science Certification Course.'] == 'Innomatics'].shape[0]\n",
    "print(f\"The number of interns who mentioned 'Innomatics' as their institute is: {innomatics_mentioned_count}\")"
   ]
  },
  {
   "cell_type": "code",
   "execution_count": null,
   "id": "993860b5",
   "metadata": {},
   "outputs": [],
   "source": []
  }
 ],
 "metadata": {
  "kernelspec": {
   "display_name": "Python 3 (ipykernel)",
   "language": "python",
   "name": "python3"
  },
  "language_info": {
   "codemirror_mode": {
    "name": "ipython",
    "version": 3
   },
   "file_extension": ".py",
   "mimetype": "text/x-python",
   "name": "python",
   "nbconvert_exporter": "python",
   "pygments_lexer": "ipython3",
   "version": "3.11.4"
  }
 },
 "nbformat": 4,
 "nbformat_minor": 5
}
